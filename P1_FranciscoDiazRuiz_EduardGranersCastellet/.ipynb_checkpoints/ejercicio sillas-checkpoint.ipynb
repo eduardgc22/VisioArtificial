{
 "cells": [
  {
   "cell_type": "code",
   "execution_count": null,
   "metadata": {},
   "outputs": [],
   "source": [
    "chairs = io.imread('images/sillas.jpg')\n",
    "\n",
    "#Creating a big frame to put inside the three images\n",
    "\n",
    "f,all_chairs = plt.subplots(ncols = 3,nrows = 1,figsize=(20,10))\n",
    "\n",
    "#Assigning chair's first, second, and third values of its RGB channel to three new variables\n",
    "\n",
    "red_channel, green_channel, blue_channel = chairs[:,:,0], chairs[:,:,1], chairs[:,:,2]\n",
    "\n",
    "#Assigning the three images to frame's positions and setting its titles\n",
    "all_chairs[0].imshow(red_channel, cmap = \"gray\")\n",
    "all_chairs[0].set_title(\"Red Channel\")\n",
    "all_chairs[1].imshow(green_channel, cmap = \"gray\")\n",
    "all_chairs[1].set_title(\"Green Channel\")\n",
    "all_chairs[2].imshow(blue_channel, cmap = \"gray\")\n",
    "all_chairs[2].set_title(\"Blue Channel\")\n",
    "\n",
    "plt.show()\n"
   ]
  }
 ],
 "metadata": {
  "kernelspec": {
   "display_name": "Python 3",
   "language": "python",
   "name": "python3"
  },
  "language_info": {
   "codemirror_mode": {
    "name": "ipython",
    "version": 3
   },
   "file_extension": ".py",
   "mimetype": "text/x-python",
   "name": "python",
   "nbconvert_exporter": "python",
   "pygments_lexer": "ipython3",
   "version": "3.6.5"
  }
 },
 "nbformat": 4,
 "nbformat_minor": 2
}
