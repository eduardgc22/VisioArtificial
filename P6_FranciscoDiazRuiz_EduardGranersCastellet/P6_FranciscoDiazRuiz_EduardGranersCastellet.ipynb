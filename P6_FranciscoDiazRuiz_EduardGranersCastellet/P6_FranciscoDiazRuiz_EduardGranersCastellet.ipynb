{
 "cells": [
  {
   "cell_type": "markdown",
   "metadata": {},
   "source": [
    "# Computer Vision - P6\n",
    "\n",
    "### **Carefully read the file `README.md` as well as the following instructions before start coding.**"
   ]
  },
  {
   "cell_type": "markdown",
   "metadata": {},
   "source": [
    "## Delivery\n",
    "\n",
    "Up to **1 point out of 10** will be penalized if the following requirements are not fulfilled:\n",
    "\n",
    "- Implemented code should be commented.\n",
    "\n",
    "- The questions introduced in the exercises must be answered.\n",
    "\n",
    "- Add title to the figures to explain what is displayed.\n",
    "\n",
    "- Comments need to be in **english**.\n",
    "\n",
    "- The deliverable must be a file named **P6_Student1_Student2.zip** that includes:\n",
    "    - The notebook P6_Student1_Student2.ipynb completed with the solutions to the exercises and their corresponding comments.\n",
    "    - All the images used in this notebook.\n",
    "\n",
    "**Deadline (Campus Virtual): January 5th, 23:00 h** "
   ]
  },
  {
   "cell_type": "markdown",
   "metadata": {},
   "source": [
    "## Haar-like features applied for face detection\n",
    "\n",
    "Today's exercices will practise the following:\n",
    "\n",
    "- Integral images and a classical use for fast harr-like feature computation.\n",
    " - Use of Adaboost for classification.\n",
    "- Decisions based on a user-defined threshold for balancing precision and recall."
   ]
  },
  {
   "cell_type": "code",
   "execution_count": 59,
   "metadata": {},
   "outputs": [],
   "source": [
    "# Some useful imports for the exercises\n",
    "import numpy as np\n",
    "import os\n",
    "import matplotlib\n",
    "from PIL import Image\n",
    "from multiprocessing import Pool\n",
    "from functools import partial\n",
    "import time\n",
    "import timeit\n",
    "from matplotlib import pyplot as plt\n",
    "from skimage.io import imread\n",
    "from skimage.exposure import rescale_intensity\n",
    "from skimage.exposure import histogram\n",
    "import pickle\n",
    "\n",
    "\n",
    "%matplotlib inline"
   ]
  },
  {
   "cell_type": "markdown",
   "metadata": {},
   "source": [
    "**1) Build a function `to_integral_image` that computes the integral image of an input (2D) array.**\n",
    "\n",
    "The integral image must have an additional row and column full of zeros (first row and first column).\n",
    "Make sure that the values of the integral image are correct.\n",
    "\n",
    "```python\n",
    " def to_integral_image(img_arr):\n",
    "    row_sum = np.zeros(img_arr.shape)\n",
    "    integral_image_arr = np.zeros((img_arr.shape[0] + 1, img_arr.shape[1] + 1))\n",
    "    # Add here code\n",
    "    \n",
    "    return integral_image_arr\n",
    "```\n",
    "\n",
    "\n",
    "You can make the following tests:\n",
    " \n",
    " - `sum(img_array) == ii_img_array[-1,-1]`\n",
    " - `img_array[0,:].sum() == ii_img_array[1,-1]`\n",
    " \n",
    "Plot the output of the integral image for the following array:\n",
    "\n",
    "```\n",
    "img_array = np.array([[1,2,2,2,1],[1,2,2,2,1],[1,2,2,2,1],[1,2,2,2,1]])\n",
    "```\n",
    "\n",
    "\n"
   ]
  },
  {
   "cell_type": "code",
   "execution_count": 60,
   "metadata": {},
   "outputs": [
    {
     "data": {
      "text/plain": [
       "<matplotlib.image.AxesImage at 0x81611bc50>"
      ]
     },
     "execution_count": 60,
     "metadata": {},
     "output_type": "execute_result"
    },
    {
     "data": {
      "image/png": "[encoded data removed]",
      "text/plain": [
       "<Figure size 432x288 with 1 Axes>"
      ]
     },
     "metadata": {},
     "output_type": "display_data"
    }
   ],
   "source": [
    "img_array = np.array([[1,2,2,2,1],[1,2,2,2,1],[1,2,2,2,1],[1,2,2,2,1]])\n",
    "img_array.shape\n",
    "plt.imshow(img_array, cmap=\"gray\", vmin=0, vmax= 5)"
   ]
  },
  {
   "cell_type": "code",
   "execution_count": 61,
   "metadata": {},
   "outputs": [],
   "source": [
    "def to_integral_image(img_arr):\n",
    "    \"\"\"\n",
    "    Calculates the integral image based on this instance's original image data.\n",
    "    :param img_arr: Image source data\n",
    "    :type img_arr: numpy.ndarray\n",
    "    :return Integral image for given image\n",
    "    :rtype: numpy.ndarray\n",
    "    \"\"\"\n",
    "    # an index of -1 refers to the last row/column\n",
    "    # since row_sum is calculated starting from (0,0),\n",
    "    # rowSum(x, -1) == 0 holds for all x\n",
    "    row_sum = np.zeros(img_arr.shape)\n",
    "    # we need an additional column and row\n",
    "    integral_image_arr = np.zeros((img_arr.shape[0] + 1, img_arr.shape[1] + 1))\n",
    "\n",
    "    row, column = img_arr.shape\n",
    "    \n",
    "    for i in range(1,row+1):\n",
    "        for j in range(1,column+1):\n",
    "            integral_image_arr[i][j] = np.sum(img_arr[:i,:j])\n",
    "    \n",
    "    return integral_image_arr\n",
    "\n"
   ]
  },
  {
   "cell_type": "code",
   "execution_count": 62,
   "metadata": {},
   "outputs": [
    {
     "name": "stdout",
     "output_type": "stream",
     "text": [
      "[[ 0.  0.  0.  0.  0.  0.]\n",
      " [ 0.  1.  3.  5.  7.  8.]\n",
      " [ 0.  2.  6. 10. 14. 16.]\n",
      " [ 0.  3.  9. 15. 21. 24.]\n",
      " [ 0.  4. 12. 20. 28. 32.]]\n",
      "[[ 0.  0.  0.  0.  0.  0.]\n",
      " [ 0.  1. 11. 13. 18. 23.]\n",
      " [ 0.  6. 23. 27. 41. 47.]\n",
      " [ 0.  7. 28. 36. 54. 61.]\n",
      " [ 0. 10. 35. 48. 72. 80.]]\n"
     ]
    },
    {
     "data": {
      "image/png": "[encoded data removed]",
      "text/plain": [
       "<Figure size 432x288 with 1 Axes>"
      ]
     },
     "metadata": {},
     "output_type": "display_data"
    }
   ],
   "source": [
    "# Tests\n",
    "\n",
    "ii_img_array = to_integral_image(img_array)\n",
    "array = np.array([[1,10,2,5,5],[5,7,2,9,1],[1,4,4,4,1],[3,4,5,6,1]])\n",
    "plt.imshow(ii_img_array, cmap=\"gray\")\n",
    "ii_array = to_integral_image(array)\n",
    "\n",
    "print(ii_img_array)\n",
    "print(ii_array)"
   ]
  },
  {
   "cell_type": "markdown",
   "metadata": {},
   "source": [
    "** 2) Build a function to compute the  sum of the pixel intensities within a  rectangle using the integral image. The rectangle will be defined using the top left (x, y) and bottom right (x, y) coordinates.**\n",
    "\n",
    "Make the function with the following header:\n",
    "```\n",
    "def sum_region(integral_img_arr, top_left, bottom_right):\n",
    "```\n"
   ]
  },
  {
   "cell_type": "code",
   "execution_count": 63,
   "metadata": {},
   "outputs": [],
   "source": [
    "def sum_region(integral_img_arr, top_left, bottom_right):\n",
    "    rect = integral_img_arr[bottom_right[0]][bottom_right[1]]\n",
    "    rect -= integral_img_arr[top_left[0]][bottom_right[1]]\n",
    "    rect -= integral_img_arr[bottom_right[0]][top_left[1]]\n",
    "    rect += integral_img_arr[top_left[0]][top_left[1]]\n",
    "    return rect"
   ]
  },
  {
   "cell_type": "code",
   "execution_count": 64,
   "metadata": {},
   "outputs": [
    {
     "data": {
      "text/plain": [
       "12.0"
      ]
     },
     "execution_count": 64,
     "metadata": {},
     "output_type": "execute_result"
    }
   ],
   "source": [
    "# result you should get (12)\n",
    "sum_region(ii_img_array, [1,1],[3,4])"
   ]
  },
  {
   "cell_type": "code",
   "execution_count": 65,
   "metadata": {},
   "outputs": [
    {
     "data": {
      "text/plain": [
       "32.0"
      ]
     },
     "execution_count": 65,
     "metadata": {},
     "output_type": "execute_result"
    }
   ],
   "source": [
    "# result you should get (32)\n",
    "sum_region(ii_img_array, [0,0],[-1,-1])"
   ]
  },
  {
   "cell_type": "markdown",
   "metadata": {
    "collapsed": true
   },
   "source": [
    "**3) Compute the integral image for all the following images:**\n",
    "    \n",
    "- training images of faces: save results in **`faces_ii_training`**\n",
    "- testing images of face: save the results in **`faces_ii_testing`**\n",
    "- training images of non faces: **`non_faces_ii_training`**\n",
    "- testing images of non faces:  **`non_faces_ii_testing`**\n",
    "\n",
    "To do so build a function to read all the images inside a given folder:\n",
    "\n",
    "```python\n",
    "def load_images(path):\n",
    "    images = []\n",
    "    for _file in os.listdir(path):\n",
    "       #### Read image\n",
    "       #### Remember to scale the image (wih the max pixel intensity value)\n",
    "     \n",
    "    return images\n",
    " ```"
   ]
  },
  {
   "cell_type": "code",
   "execution_count": 66,
   "metadata": {},
   "outputs": [],
   "source": [
    "pos_training_path = 'trainingdata/faces'\n",
    "neg_training_path = 'trainingdata/nonfaces'\n",
    "pos_testing_path = 'trainingdata/faces/test'\n",
    "neg_testing_path = 'trainingdata/nonfaces/test'"
   ]
  },
  {
   "cell_type": "code",
   "execution_count": 67,
   "metadata": {
    "scrolled": true
   },
   "outputs": [],
   "source": [
    "def load_images(path):\n",
    "    images = []\n",
    "    ## fill in\n",
    "    for _file in os.listdir(path):\n",
    "        # Since there are other files that are not images, we need to get only the\n",
    "        # images, in other words, the files with .png extension.\n",
    "        if _file.endswith('.png'):\n",
    "            im = imread(path +\"/\"+ _file)\n",
    "            if np.amax(im)>0:\n",
    "                im = im/im.max()#rescale_intensity(im)\n",
    "            images.append(to_integral_image(im))\n",
    "    \n",
    "    return images"
   ]
  },
  {
   "cell_type": "code",
   "execution_count": 68,
   "metadata": {},
   "outputs": [],
   "source": [
    "# Tests\n",
    "\n",
    "faces_ii_training = load_images(pos_training_path)\n",
    "faces_ii_testing = load_images(pos_testing_path)\n",
    "non_faces_ii_training = load_images(neg_training_path)\n",
    "non_faces_ii_testing = load_images(neg_testing_path)\n"
   ]
  },
  {
   "cell_type": "markdown",
   "metadata": {},
   "source": [
    "**4) Compute the Haar features of an image**\n",
    "\n",
    "The code given will use the  `sum_region` function you have implemented to compute Haar-like features.\n",
    "The following code, for example, will compute a vertical Haar-like feature\n",
    "```python\n",
    "    first = sum_region(int_img, \n",
    "                      self.top_left, \n",
    "                      (self.top_left[0] + self.width, int(self.top_left[1] + self.height / 2)))\n",
    "    second = sum_region(int_img, \n",
    "                       (self.top_left[0], int(self.top_left[1] + self.height / 2)),\n",
    "                       self.bottom_right)\n",
    "    score = first - second\n",
    "```\n",
    "\n",
    "We provide you with `HaarLikeFeature` class that has build in a `get_score` function and a `get_vote` function.\n",
    "\n",
    "Your job is to \n",
    "```python\n",
    "def _create_features(img_height, img_width, min_feature_width, max_feature_width, min_feature_height, max_feature_height):\n",
    "    print('Creating Haar-like features..')\n",
    "    t0 = time.time()\n",
    "    features = []\n",
    "    for feature in FeatureTypes:\n",
    "        # FeatureTypes are just tuples\n",
    "        feature_start_width = max(min_feature_width, feature[0])\n",
    "        for feature_width in range(feature_start_width, max_feature_width, feature[0]):\n",
    "            feature_start_height = max(min_feature_height, feature[1])\n",
    "            for feature_height in range(feature_start_height, max_feature_height, feature[1]):\n",
    "                # Loop over possible x values and y values \n",
    "                # - For each (x,y) create the HarrLikeFeature objects.\n",
    "                # - append the HaarlikeFeatures in the features list.\n",
    "                # Notice that Haarlike features contain polarity, append features for polarity 1 and -1\n",
    "                # The threshold can be set to 0 for all of them.\n",
    "                \n",
    "                \n",
    "    print('\\t' + str(len(features)) + ' features created.')\n",
    "    print('\\tTime needed for calculating Harr-like features:', time.time()-t0)\n",
    "    return features\n",
    "```"
   ]
  },
  {
   "cell_type": "code",
   "execution_count": 69,
   "metadata": {},
   "outputs": [],
   "source": [
    "def enum(**enums):\n",
    "    return type('Enum', (), enums)\n",
    "\n",
    "FeatureType = enum(TWO_VERTICAL=(1, 2), TWO_HORIZONTAL=(2, 1), THREE_HORIZONTAL=(3, 1), THREE_VERTICAL=(1, 3), FOUR=(2, 2))\n",
    "FeatureTypes = [FeatureType.TWO_VERTICAL, FeatureType.TWO_HORIZONTAL, FeatureType.THREE_VERTICAL, FeatureType.THREE_HORIZONTAL, FeatureType.FOUR]\n",
    "\n",
    "class HaarLikeFeature(object):\n",
    "    \"\"\"\n",
    "    Class representing a haar-like feature.\n",
    "    \"\"\"\n",
    "\n",
    "    def __init__(self, feature_type, position, width, height, threshold, polarity):\n",
    "        \"\"\"\n",
    "        Creates a new haar-like feature.\n",
    "        :param feature_type: Type of new feature, see FeatureType enum\n",
    "        :type feature_type: violajonse.HaarLikeFeature.FeatureTypes\n",
    "        :param position: Top left corner where the feature begins (x, y)\n",
    "        :type position: (int, int)\n",
    "        :param width: Width of the feature\n",
    "        :type width: int\n",
    "        :param height: Height of the feature\n",
    "        :type height: int\n",
    "        :param threshold: Feature threshold\n",
    "        :type threshold: float\n",
    "        :param polarity: polarity of the feature -1 or 1\n",
    "        :type polarity: int\n",
    "        \"\"\"\n",
    "        self.type = feature_type\n",
    "        self.top_left = position\n",
    "        self.bottom_right = (position[0] + width, position[1] + height)\n",
    "        self.width = width\n",
    "        self.height = height\n",
    "        self.threshold = threshold\n",
    "        self.polarity = polarity\n",
    "        self.weight = 1\n",
    "    \n",
    "    def get_score(self, int_img):\n",
    "        \"\"\"\n",
    "        Get score for given integral image array.\n",
    "        :param int_img: Integral image array\n",
    "        :type int_img: numpy.ndarray\n",
    "        :return: Score for given feature\n",
    "        :rtype: float\n",
    "        \"\"\"\n",
    "        score = 0\n",
    "        if self.type == FeatureType.TWO_VERTICAL:\n",
    "            first = sum_region(int_img, self.top_left, (self.top_left[0] + self.width, int(self.top_left[1] + self.height / 2)))\n",
    "            second = sum_region(int_img, (self.top_left[0], int(self.top_left[1] + self.height / 2)), self.bottom_right)\n",
    "            score = first - second\n",
    "        elif self.type == FeatureType.TWO_HORIZONTAL:\n",
    "            first = sum_region(int_img, self.top_left, (int(self.top_left[0] + self.width / 2), self.top_left[1] + self.height))\n",
    "            second = sum_region(int_img, (int(self.top_left[0] + self.width / 2), self.top_left[1]), self.bottom_right)\n",
    "            score = first - second\n",
    "        elif self.type == FeatureType.THREE_HORIZONTAL:\n",
    "            first = sum_region(int_img, self.top_left, (int(self.top_left[0] + self.width / 3), self.top_left[1] + self.height))\n",
    "            second = sum_region(int_img, (int(self.top_left[0] + self.width / 3), self.top_left[1]), (int(self.top_left[0] + 2 * self.width / 3), self.top_left[1] + self.height))\n",
    "            third = sum_region(int_img, (int(self.top_left[0] + 2 * self.width / 3), self.top_left[1]), self.bottom_right)\n",
    "            score = first - second + third\n",
    "        elif self.type == FeatureType.THREE_VERTICAL:\n",
    "            first = sum_region(int_img, self.top_left, (self.bottom_right[0], int(self.top_left[1] + self.height / 3)))\n",
    "            second = sum_region(int_img, (self.top_left[0], int(self.top_left[1] + self.height / 3)), (self.bottom_right[0], int(self.top_left[1] + 2 * self.height / 3)))\n",
    "            third = sum_region(int_img, (self.top_left[0], int(self.top_left[1] + 2 * self.height / 3)), self.bottom_right)\n",
    "            score = first - second + third\n",
    "        elif self.type == FeatureType.FOUR:\n",
    "            # top left area\n",
    "            first = sum_region(int_img, self.top_left, (int(self.top_left[0] + self.width / 2), int(self.top_left[1] + self.height / 2)))\n",
    "            # top right area\n",
    "            second = sum_region(int_img, (int(self.top_left[0] + self.width / 2), self.top_left[1]), (self.bottom_right[0], int(self.top_left[1] + self.height / 2)))\n",
    "            # bottom left area\n",
    "            third = sum_region(int_img, (self.top_left[0], int(self.top_left[1] + self.height / 2)), (int(self.top_left[0] + self.width / 2), self.bottom_right[1]))\n",
    "            # bottom right area\n",
    "            fourth = sum_region(int_img, (int(self.top_left[0] + self.width / 2), int(self.top_left[1] + self.height / 2)), self.bottom_right)\n",
    "            score = first - second - third + fourth\n",
    "        return score\n",
    "    \n",
    "    def get_vote(self, int_img):\n",
    "        \"\"\"\n",
    "        Get vote of this feature for given integral image.\n",
    "        :param int_img: Integral image array\n",
    "        :type int_img: numpy.ndarray\n",
    "        :return: 1 iff this feature votes positively, otherwise -1\n",
    "        :rtype: int\n",
    "        \"\"\"\n",
    "        score = self.get_score(int_img)\n",
    "        return self.weight * (1 if score < self.polarity * self.threshold else -1)\n"
   ]
  },
  {
   "cell_type": "code",
   "execution_count": 70,
   "metadata": {},
   "outputs": [],
   "source": [
    "\n",
    "def learn(positive_iis, negative_iis, num_classifiers=-1, min_feature_width=1, max_feature_width=-1, min_feature_height=1, max_feature_height=-1):\n",
    "    \"\"\"\n",
    "    Selects a set of classifiers. Iteratively takes the best classifiers based\n",
    "    on a weighted error.\n",
    "    :param positive_iis: List of positive integral image examples\n",
    "    :type positive_iis: list[numpy.ndarray]\n",
    "    :param negative_iis: List of negative integral image examples\n",
    "    :type negative_iis: list[numpy.ndarray]\n",
    "    :param num_classifiers: Number of classifiers to select, -1 will use all\n",
    "    classifiers\n",
    "    :type num_classifiers: int\n",
    "    :return: List of selected features\n",
    "    :rtype: list[violajones.HaarLikeFeature.HaarLikeFeature]\n",
    "    \"\"\"\n",
    "    num_pos = len(positive_iis)\n",
    "    num_neg = len(negative_iis)\n",
    "    num_imgs = num_pos + num_neg\n",
    "    img_height, img_width = positive_iis[0].shape\n",
    "\n",
    "    # Maximum feature width and height default to image width and height\n",
    "    max_feature_height = img_height if max_feature_height == -1 else max_feature_height\n",
    "    max_feature_width = img_width if max_feature_width == -1 else max_feature_width\n",
    "\n",
    "    # Create initial weights and labels\n",
    "    pos_weights = np.ones(num_pos) * 1. / (2 * num_pos)\n",
    "    neg_weights = np.ones(num_neg) * 1. / (2 * num_neg)\n",
    "    weights = np.hstack((pos_weights, neg_weights))\n",
    "    labels = np.hstack((np.ones(num_pos), np.ones(num_neg) * -1))\n",
    "\n",
    "    images = positive_iis + negative_iis\n",
    "\n",
    "    # Create features for all sizes and locations\n",
    "    features = _create_features(img_height, img_width, min_feature_width, max_feature_width, min_feature_height, max_feature_height)\n",
    "    num_features = len(features)\n",
    "    feature_indexes = list(range(num_features))\n",
    "\n",
    "    num_classifiers = num_features if num_classifiers == -1 else num_classifiers\n",
    "\n",
    "    print('Calculating scores for images..')\n",
    "    t0 = time.time()\n",
    "    votes = np.zeros((num_imgs, num_features))\n",
    "    # Use as many workers as there are CPUs\n",
    "    pool = Pool(processes=None)\n",
    "    for i in range(num_imgs):\n",
    "        votes[i, :] = np.array(list(pool.map(partial(_get_feature_vote, image=images[i]), features)))\n",
    "\n",
    "    \n",
    "    print('\\tTime needed for calculating scores:', time.time()-t0)\n",
    "    \n",
    "    # select classifiers\n",
    "    classifiers = []\n",
    "\n",
    "    t0 = time.time()\n",
    "    print('Selecting classifiers..')\n",
    "    for _ in range(num_classifiers):\n",
    "\n",
    "        classification_errors = np.zeros(len(feature_indexes))\n",
    "\n",
    "        # normalize weights\n",
    "        weights *= 1. / np.sum(weights)\n",
    "\n",
    "        # select best classifier based on the weighted error\n",
    "        for f in range(len(feature_indexes)):\n",
    "            f_idx = feature_indexes[f]\n",
    "            # classifier error is the sum of image weights where the classifier\n",
    "            # is right\n",
    "            error = sum(map(lambda img_idx: weights[img_idx] if labels[img_idx] != votes[img_idx, f_idx] else 0, range(num_imgs)))\n",
    "            classification_errors[f] = error\n",
    "\n",
    "        # get best feature, i.e. with smallest error\n",
    "        min_error_idx = np.argmin(classification_errors)\n",
    "        best_error = classification_errors[min_error_idx]\n",
    "        best_feature_idx = feature_indexes[min_error_idx]\n",
    "\n",
    "        # set feature weight\n",
    "        best_feature = features[best_feature_idx]\n",
    "        feature_weight = 0.5 * np.log((1 - best_error) / best_error)\n",
    "        best_feature.weight = feature_weight\n",
    "\n",
    "        classifiers.append(best_feature)\n",
    "\n",
    "        # update image weights\n",
    "        weights = np.array(list(map(lambda img_idx: weights[img_idx] * np.sqrt((1-best_error)/best_error) if labels[img_idx] != votes[img_idx, best_feature_idx] else weights[img_idx] * np.sqrt(best_error/(1-best_error)), range(num_imgs))))\n",
    "\n",
    "        # remove feature (a feature can't be selected twice)\n",
    "        feature_indexes.remove(best_feature_idx)\n",
    "\n",
    "    print('\\tTime needed for Selecting Classifiers:', time.time()-t0,'\\n')\n",
    "\n",
    "\n",
    "    return classifiers\n",
    "\n",
    "def _get_feature_vote(feature, image):\n",
    "    return feature.get_vote(image)\n",
    "\n",
    "def _create_features(img_height, img_width, min_feature_width, max_feature_width, min_feature_height, max_feature_height):\n",
    "    print('Creating Haar-like features..')\n",
    "    t0 = time.time()\n",
    "    features = []\n",
    "    for feature in FeatureTypes:\n",
    "        # FeatureTypes are just tuples\n",
    "        feature_start_width = max(min_feature_width, feature[0])\n",
    "        for feature_width in range(feature_start_width, max_feature_width, feature[0]):\n",
    "            feature_start_height = max(min_feature_height, feature[1])\n",
    "            for feature_height in range(feature_start_height, max_feature_height, feature[1]):\n",
    "                ########################\n",
    "                ### FILL IN HERE\n",
    "                ########################\n",
    "                for fx in range(img_width-feature_width):\n",
    "                    for fy in range(img_height-feature_height):\n",
    "                        features.append(HaarLikeFeature(feature,(fx,fy),feature_width,feature_height,0,1))\n",
    "                        features.append(HaarLikeFeature(feature,(fx,fy),feature_width,feature_height,0,-1))\n",
    "                        \n",
    "    print('\\t' + str(len(features)) + ' features created.')\n",
    "    print('\\tTime needed for calculating Harr-like features:', time.time()-t0)\n",
    "    return features\n"
   ]
  },
  {
   "cell_type": "markdown",
   "metadata": {},
   "source": [
    "** 5)Use the learn method  to learn a list of classifiers with the train data **\n",
    "\n",
    "With the `learn` function you can build a list of classifiers that detect whether an image contains a face or not.\n",
    "\n",
    "Use the following hyperparameters of the features and `num_classifiers`."
   ]
  },
  {
   "cell_type": "code",
   "execution_count": 71,
   "metadata": {},
   "outputs": [],
   "source": [
    "num_classifiers = 2\n",
    "min_feature_height = 8\n",
    "max_feature_height = 10\n",
    "min_feature_width = 8\n",
    "max_feature_width = 10"
   ]
  },
  {
   "cell_type": "code",
   "execution_count": 72,
   "metadata": {},
   "outputs": [
    {
     "name": "stdout",
     "output_type": "stream",
     "text": [
      "Creating Haar-like features..\n",
      "\t2496 features created.\n",
      "\tTime needed for calculating Harr-like features: 0.0030450820922851562\n",
      "Calculating scores for images..\n",
      "\tTime needed for calculating scores: 117.46886396408081\n",
      "Selecting classifiers..\n",
      "\tTime needed for Selecting Classifiers: 36.60165190696716 \n",
      "\n",
      "CPU times: user 2min 14s, sys: 8.92 s, total: 2min 23s\n",
      "Wall time: 2min 34s\n"
     ]
    }
   ],
   "source": [
    "%%time \n",
    "#classifiers = learn(...)\n",
    "classifiers = learn(faces_ii_training, non_faces_ii_training,\n",
    "                    num_classifiers, min_feature_width, max_feature_width, min_feature_height, max_feature_height)"
   ]
  },
  {
   "cell_type": "code",
   "execution_count": 73,
   "metadata": {},
   "outputs": [],
   "source": [
    "#Storing the data from the classifiers to avoid having to re-execute the code, once only, after that comment the line\n",
    "pickle.dump( classifiers, open( \"classifiers_training.p\", \"wb\" ) )"
   ]
  },
  {
   "cell_type": "code",
   "execution_count": null,
   "metadata": {},
   "outputs": [],
   "source": [
    "#Loading the previously stored data\n",
    "classifs = pickle.load( open( \"classifiers_training.p\", \"rb\" ) )"
   ]
  },
  {
   "cell_type": "markdown",
   "metadata": {},
   "source": [
    "** 6) Make a function for voting with different classifiers **\n",
    "\n",
    "Build two functions `ensemble_vote` and `ensemble_vote_all`.\n",
    "\n",
    "- `ensemble_vote(int_img, classifiers)` has to return a 1 if the majority of the votes of the classifiers is positive and a zero otherwise\n",
    "\n",
    "- `ensemble_vote_all(int_imgs, classifiers)` has to loop over the list `int_imgs` and compute the `ensemble_vote` for each image in the list. It has to return a list containing all the votes for all the images in  `int_imgs`.\n",
    "\n",
    "Use the functions to compute the train and test acurracies for faces and non faces.\n",
    "\n",
    "Print the results in the following format:\n",
    "```\n",
    "train results:\n",
    "Correctly identified Faces: 2129/2429  (87.64923836969946%)\n",
    "Correctly identified non-Faces: 4276/8548  (50.02339728591484%)\n",
    "\n",
    "test results:\n",
    "Correctly identified Faces: 300/472  (63.559322033898304%)\n",
    "Correctly identified non-Faces: 74/128  (57.8125%)\n",
    "```\n",
    "\n",
    "It is not required to get this exact results but print the information in this format. It facilitates understanding the results."
   ]
  },
  {
   "cell_type": "code",
   "execution_count": 75,
   "metadata": {},
   "outputs": [],
   "source": [
    "def ensemble_vote(int_img, classifiers):\n",
    "    if sum([c.get_vote(int_img) for c in classifiers]) > 0:\n",
    "        result = 1\n",
    "    else:\n",
    "        result = 0\n",
    "    return result"
   ]
  },
  {
   "cell_type": "code",
   "execution_count": 76,
   "metadata": {},
   "outputs": [],
   "source": [
    "# Solution 1\n",
    "def ensemble_vote_all(int_imgs, classifiers):\n",
    "    votes = []\n",
    "    for i in int_imgs: \n",
    "        votes.append(ensemble_vote(i,classifiers))\n",
    "    \n",
    "    return votes"
   ]
  },
  {
   "cell_type": "code",
   "execution_count": 77,
   "metadata": {},
   "outputs": [
    {
     "name": "stdout",
     "output_type": "stream",
     "text": [
      "                    TRAIN RESULTS\n",
      "********************************************************\n",
      "Correctly identified Faces:  2129 / 2429  (87.649%)\n",
      "\n",
      "Correctly identified non-Faces:  4275 / 8548  (50.012%)\n",
      "\n",
      "\n",
      "                    TEST RESULTS\n",
      "********************************************************\n",
      "Correctly identified Faces:  299 / 472  (63.347%)\n",
      "\n",
      "Correctly identified non-Faces:  74 / 128  (57.812%)\n"
     ]
    }
   ],
   "source": [
    "detected_faces_training = ensemble_vote_all(faces_ii_training,classifs).count(1) \n",
    "detected_faces_testing = ensemble_vote_all(faces_ii_testing,classifs).count(1)\n",
    "\n",
    "detected_non_faces_training = ensemble_vote_all(non_faces_ii_training,classifs).count(0) \n",
    "detected_non_faces_testing = ensemble_vote_all(non_faces_ii_testing,classifs).count(0) \n",
    "\n",
    "total_faces_training = len(faces_ii_training)\n",
    "total_faces_testing = len(faces_ii_testing)\n",
    "\n",
    "total_non_faces_training = len(non_faces_ii_training)\n",
    "total_non_faces_testing = len(non_faces_ii_testing)\n",
    "\n",
    "print(\"TRAIN RESULTS: \\n\")\n",
    "print( \"Correctly identified Faces: \", \"%d / %d  (%.3f%s)\\n\" % ( detected_faces_training, total_faces_training,\n",
    "                                                            detected_faces_training*100/total_faces_training, \"%\" ))\n",
    "\n",
    "print( \"Correctly identified non-Faces: \", \"%d / %d  (%.3f%s)\\n\" % ( detected_non_faces_training, total_non_faces_training,\n",
    "                                                            detected_non_faces_training*100/total_non_faces_training, \"%\"  ))\n",
    "\n",
    "print(\"\\nTEST RESULTS: \\n\")\n",
    "print( \"Correctly identified Faces: \", \"%d / %d  (%.3f%s)\\n\" % ( detected_faces_testing, total_faces_testing,\n",
    "                                                            detected_faces_testing*100/total_faces_testing, \"%\"  ))\n",
    "\n",
    "print( \"Correctly identified non-Faces: \", \"%d / %d  (%.3f%s)\" % ( detected_non_faces_testing, total_non_faces_testing,\n",
    "                                                            detected_non_faces_testing*100/total_non_faces_testing, \"%\"  ))\n"
   ]
  },
  {
   "cell_type": "markdown",
   "metadata": {},
   "source": [
    "** 7) Make another test with 20 classifiers instead of 2**\n",
    "\n",
    "Inspect the classification results if you use adaboost with 20 classifiers. Use the same hyperameters for the features.\n",
    "Print the results as in the previous exercise:\n",
    "\n",
    "```\n",
    "train results:\n",
    "Correctly identified Faces: 2256/2429  (92.87772745986003%)\n",
    "Correctly identified non-Faces: 7046/8548  (82.42863827795975%)\n",
    "\n",
    "test results:\n",
    "Correctly identified Faces: 285/472  (60.381355932203384%)\n",
    "Correctly identified non-Faces: 104/128  (81.25%)\n",
    "```\n",
    "\n",
    "- Do the classification results improved in the train data?\n",
    "\n",
    "    - If we compare the 20 classifiers results with the ones of only 2 classifiers its observable that there's a significative improvement on the results percentages going from an 87% to 92 % for the faces and from 50% to 82% for the non-faces.\n",
    "    \n",
    "    "
   ]
  },
  {
   "cell_type": "code",
   "execution_count": 19,
   "metadata": {},
   "outputs": [],
   "source": [
    "num_classifiers = 20\n",
    "min_feature_height = 8\n",
    "max_feature_height = 10\n",
    "min_feature_width = 8\n",
    "max_feature_width = 10"
   ]
  },
  {
   "cell_type": "code",
   "execution_count": 20,
   "metadata": {},
   "outputs": [
    {
     "name": "stdout",
     "output_type": "stream",
     "text": [
      "Creating Haar-like features..\n",
      "\t2496 features created.\n",
      "\tTime needed for calculating Harr-like features: 0.0040781497955322266\n",
      "Calculating scores for images..\n",
      "\tTime needed for calculating scores: 113.50038313865662\n",
      "Selecting classifiers..\n",
      "\tTime needed for Selecting Classifiers: 365.93671894073486 \n",
      "\n",
      "CPU times: user 7min 40s, sys: 9.94 s, total: 7min 50s\n",
      "Wall time: 7min 59s\n"
     ]
    }
   ],
   "source": [
    "%%time \n",
    "classifiers20 = learn(faces_ii_training, non_faces_ii_training,\n",
    "                    num_classifiers, min_feature_width, max_feature_width, min_feature_height, max_feature_height)"
   ]
  },
  {
   "cell_type": "code",
   "execution_count": 42,
   "metadata": {},
   "outputs": [],
   "source": [
    "#Storing the data from the classifiers to avoid having to re-execute the code, once only, after that comment the line\n",
    "pickle.dump( classifiers20, open( \"classifiers20_training.p\", \"wb\" ) )"
   ]
  },
  {
   "cell_type": "code",
   "execution_count": 43,
   "metadata": {},
   "outputs": [],
   "source": [
    "#Loading the previously stored data\n",
    "classifs20 = pickle.load( open( \"classifiers20_training.p\", \"rb\" ) )"
   ]
  },
  {
   "cell_type": "code",
   "execution_count": 78,
   "metadata": {},
   "outputs": [
    {
     "name": "stdout",
     "output_type": "stream",
     "text": [
      "                    TRAIN RESULTS\n",
      "********************************************************\n",
      "Correctly identified Faces:  2239 / 2429  (92.178%)\n",
      "\n",
      "Correctly identified non-Faces:  7060 / 8548  (82.592%)\n",
      "\n",
      "\n",
      "                    TEST RESULTS\n",
      "********************************************************\n",
      "Correctly identified Faces:  267 / 472  (56.568%)\n",
      "\n",
      "Correctly identified non-Faces:  106 / 128  (82.812%)\n"
     ]
    }
   ],
   "source": [
    "detected_faces_training = ensemble_vote_all(faces_ii_training,classifs20).count(1)\n",
    "detected_faces_testing = ensemble_vote_all(faces_ii_testing,classifs20).count(1)\n",
    "\n",
    "detected_non_faces_training = ensemble_vote_all(non_faces_ii_training,classifs20).count(0) \n",
    "detected_non_faces_testing = ensemble_vote_all(non_faces_ii_testing,classifs20).count(0) \n",
    "\n",
    "total_faces_training = len(faces_ii_training)\n",
    "total_faces_testing = len(faces_ii_testing)\n",
    "\n",
    "total_non_faces_training = len(non_faces_ii_training)\n",
    "total_non_faces_testing = len(non_faces_ii_testing)\n",
    "\n",
    "print(\"TRAIN RESULTS: \\n\")\n",
    "print( \"Correctly identified Faces: \", \"%d / %d  (%.3f%s)\\n\" % ( detected_faces_training, total_faces_training,\n",
    "                                                            detected_faces_training*100/total_faces_training, \"%\" ))\n",
    "\n",
    "print( \"Correctly identified non-Faces: \", \"%d / %d  (%.3f%s)\\n\" % ( detected_non_faces_training, total_non_faces_training,\n",
    "                                                            detected_non_faces_training*100/total_non_faces_training, \"%\"  ))\n",
    "\n",
    "print(\"\\nTEST RESULTS: \\n\")\n",
    "print( \"Correctly identified Faces: \", \"%d / %d  (%.3f%s)\\n\" % ( detected_faces_testing, total_faces_testing,\n",
    "                                                            detected_faces_testing*100/total_faces_testing, \"%\"  ))\n",
    "\n",
    "print( \"Correctly identified non-Faces: \", \"%d / %d  (%.3f%s)\" % ( detected_non_faces_testing, total_non_faces_testing,\n",
    "                                                            detected_non_faces_testing*100/total_non_faces_testing, \"%\"  ))\n"
   ]
  },
  {
   "cell_type": "markdown",
   "metadata": {},
   "source": [
    "** 8) Change the voting functions so that you can set a threshold for deciding a prediction**\n",
    "\n",
    "The threshold value indicates the minimum score for assigning a \"positive\" label (detect a face).\n",
    "\n",
    "Create the following functions\n",
    "\n",
    "- `ensemble_vote_t`: returns the final decision of a list of classifiers for a given threshold.\n",
    "- `ensemble_vote_all_t`: Iterates over a list of integral images and returns the  final decision of a list of classifiers for each of the images (for a given threshold).\n",
    "\n",
    "\n",
    "\n",
    "compute the following:\n",
    "\n",
    "- a) number of correct faces over all faces (in the train data)\n",
    "- b) number of correct non faces over all non faces (in the train data)\n",
    "- c) number of correct faces over all faces (in the test data)\n",
    "- d) number of correct non faces over all non faces (in the test data)\n",
    "\n",
    "Using the list of 20 classifiers.\n",
    "\n",
    "\n",
    "The quantities have to be computed for each of the following thresholds:\n",
    "\n",
    "```\n",
    "thresholds = np.array([x for x in range(-5,5,1)])/10.\n",
    "```\n",
    "\n",
    "- Make a bar bar plot for a) b) c) and d). In the x axis write the threshold value. \n",
    "\n",
    "- What happens when you increase the threshold value ?\n",
    "\n",
    "    On the results for the faces the value of the number for all of them is similar in all the values.\n",
    "    On the results with the non faces the value is more accurate in the negative values."
   ]
  },
  {
   "cell_type": "code",
   "execution_count": 44,
   "metadata": {},
   "outputs": [],
   "source": [
    "thresholds = np.array([x for x in range(-5,5,1)])/10."
   ]
  },
  {
   "cell_type": "code",
   "execution_count": 45,
   "metadata": {},
   "outputs": [],
   "source": [
    "correct_faces_train_t = []\n",
    "correct_non_faces_train_t = []\n",
    "correct_faces_test_t = []\n",
    "correct_non_faces_test_t = []"
   ]
  },
  {
   "cell_type": "code",
   "execution_count": 46,
   "metadata": {},
   "outputs": [],
   "source": [
    "def ensemble_score(int_img, classifiers):\n",
    "    return sum([c.get_vote(int_img) for c in classifiers])\n",
    "\n",
    "def ensemble_vote_t(int_img, classifiers,t):\n",
    "    if sum([c.get_vote(int_img)  for c in classifs20 if c.get_vote(int_img) > t]) > 0:\n",
    "        result = 1\n",
    "    else:\n",
    "        result = 0\n",
    "    return result\n",
    "def ensemble_vote_all_t(int_imgs, classifiers,t=-0.1):\n",
    "    votes = []\n",
    "    \n",
    "    for i in int_imgs:\n",
    "        votes.append(ensemble_vote_t(i,classifiers,t))\n",
    "    \n",
    "    return votes\n"
   ]
  },
  {
   "cell_type": "code",
   "execution_count": 81,
   "metadata": {},
   "outputs": [
    {
     "name": "stdout",
     "output_type": "stream",
     "text": [
      "\n",
      "For threshold -0.50000000000 : \n",
      "TRAIN RESULTS: \n",
      "\n",
      "Correctly identified Faces:  2239 / 2429  (92.178%)\n",
      "\n",
      "Correctly identified non-Faces:  7060 / 8548  (82.592%)\n",
      "\n",
      "\n",
      "TEST RESULTS: \n",
      "\n",
      "Correctly identified Faces:  418 / 472  (88.559%)\n",
      "\n",
      "Correctly identified non-Faces:  106 / 128  (82.812%)\n",
      "\n",
      "For threshold -0.40000000000 : \n",
      "TRAIN RESULTS: \n",
      "\n",
      "Correctly identified Faces:  2260 / 2429  (93.042%)\n",
      "\n",
      "Correctly identified non-Faces:  6836 / 8548  (79.972%)\n",
      "\n",
      "\n",
      "TEST RESULTS: \n",
      "\n",
      "Correctly identified Faces:  418 / 472  (88.559%)\n",
      "\n",
      "Correctly identified non-Faces:  100 / 128  (78.125%)\n",
      "\n",
      "For threshold -0.30000000000 : \n",
      "TRAIN RESULTS: \n",
      "\n",
      "Correctly identified Faces:  2395 / 2429  (98.600%)\n",
      "\n",
      "Correctly identified non-Faces:  4790 / 8548  (56.036%)\n",
      "\n",
      "\n",
      "TEST RESULTS: \n",
      "\n",
      "Correctly identified Faces:  418 / 472  (88.559%)\n",
      "\n",
      "Correctly identified non-Faces:  69 / 128  (53.906%)\n",
      "\n",
      "For threshold -0.20000000000 : \n",
      "TRAIN RESULTS: \n",
      "\n",
      "Correctly identified Faces:  2428 / 2429  (99.959%)\n",
      "\n",
      "Correctly identified non-Faces:  1095 / 8548  (12.810%)\n",
      "\n",
      "\n",
      "TEST RESULTS: \n",
      "\n",
      "Correctly identified Faces:  418 / 472  (88.559%)\n",
      "\n",
      "Correctly identified non-Faces:  18 / 128  (14.062%)\n",
      "\n",
      "For threshold -0.10000000000 : \n",
      "TRAIN RESULTS: \n",
      "\n",
      "Correctly identified Faces:  2429 / 2429  (100.000%)\n",
      "\n",
      "Correctly identified non-Faces:  25 / 8548  (0.292%)\n",
      "\n",
      "\n",
      "TEST RESULTS: \n",
      "\n",
      "Correctly identified Faces:  418 / 472  (88.559%)\n",
      "\n",
      "Correctly identified non-Faces:  0 / 128  (0.000%)\n",
      "\n",
      "For threshold 0.00000000000 : \n",
      "TRAIN RESULTS: \n",
      "\n",
      "Correctly identified Faces:  2429 / 2429  (100.000%)\n",
      "\n",
      "Correctly identified non-Faces:  25 / 8548  (0.292%)\n",
      "\n",
      "\n",
      "TEST RESULTS: \n",
      "\n",
      "Correctly identified Faces:  418 / 472  (88.559%)\n",
      "\n",
      "Correctly identified non-Faces:  0 / 128  (0.000%)\n",
      "\n",
      "For threshold 0.10000000000 : \n",
      "TRAIN RESULTS: \n",
      "\n",
      "Correctly identified Faces:  2429 / 2429  (100.000%)\n",
      "\n",
      "Correctly identified non-Faces:  25 / 8548  (0.292%)\n",
      "\n",
      "\n",
      "TEST RESULTS: \n",
      "\n",
      "Correctly identified Faces:  418 / 472  (88.559%)\n",
      "\n",
      "Correctly identified non-Faces:  0 / 128  (0.000%)\n",
      "\n",
      "For threshold 0.20000000000 : \n",
      "TRAIN RESULTS: \n",
      "\n",
      "Correctly identified Faces:  2429 / 2429  (100.000%)\n",
      "\n",
      "Correctly identified non-Faces:  63 / 8548  (0.737%)\n",
      "\n",
      "\n",
      "TEST RESULTS: \n",
      "\n",
      "Correctly identified Faces:  418 / 472  (88.559%)\n",
      "\n",
      "Correctly identified non-Faces:  0 / 128  (0.000%)\n",
      "\n",
      "For threshold 0.30000000000 : \n",
      "TRAIN RESULTS: \n",
      "\n",
      "Correctly identified Faces:  2428 / 2429  (99.959%)\n",
      "\n",
      "Correctly identified non-Faces:  299 / 8548  (3.498%)\n",
      "\n",
      "\n",
      "TEST RESULTS: \n",
      "\n",
      "Correctly identified Faces:  418 / 472  (88.559%)\n",
      "\n",
      "Correctly identified non-Faces:  4 / 128  (3.125%)\n",
      "\n",
      "For threshold 0.40000000000 : \n",
      "TRAIN RESULTS: \n",
      "\n",
      "Correctly identified Faces:  2351 / 2429  (96.789%)\n",
      "\n",
      "Correctly identified non-Faces:  3334 / 8548  (39.003%)\n",
      "\n",
      "\n",
      "TEST RESULTS: \n",
      "\n",
      "Correctly identified Faces:  418 / 472  (88.559%)\n",
      "\n",
      "Correctly identified non-Faces:  42 / 128  (32.812%)\n"
     ]
    }
   ],
   "source": [
    "for t in thresholds:\n",
    "    print(\"\\nFor threshold %.11f : \" % (t))\n",
    "    detected_faces_training_t = ensemble_vote_all_t(faces_ii_training,classifs20,t).count(1) \n",
    "    detected_faces_testing_t = ensemble_vote_all_t(faces_ii_testing,classifs20,0.4).count(1)\n",
    "    \n",
    "    detected_non_faces_training_t = ensemble_vote_all_t(non_faces_ii_training,classifs20,t).count(0) \n",
    "    detected_non_faces_testing_t = ensemble_vote_all_t(non_faces_ii_testing,classifs20, t).count(0) \n",
    "    \n",
    "    total_faces_training = len(faces_ii_training)\n",
    "    total_faces_testing = len(faces_ii_testing)\n",
    "    \n",
    "    total_non_faces_training = len(non_faces_ii_training)\n",
    "    total_non_faces_testing = len(non_faces_ii_testing)\n",
    "    \n",
    "    correct_faces_train_t.append(detected_faces_training_t*100/total_faces_training)\n",
    "    correct_non_faces_train_t.append(detected_non_faces_training_t*100/total_non_faces_training)\n",
    "    correct_faces_test_t.append(detected_faces_testing_t*100/total_faces_testing)\n",
    "    correct_non_faces_test_t.append(detected_non_faces_testing_t*100/total_non_faces_testing)\n",
    "\n",
    "    print(\"TRAIN RESULTS: \\n\")\n",
    "    print( \"Correctly identified Faces: \", \"%d / %d  (%.3f%s)\\n\" % ( detected_faces_training_t, total_faces_training,\n",
    "                                                                detected_faces_training_t*100/total_faces_training, \"%\" ))\n",
    "\n",
    "    print( \"Correctly identified non-Faces: \", \"%d / %d  (%.3f%s)\\n\" % ( detected_non_faces_training_t, total_non_faces_training,\n",
    "                                                                detected_non_faces_training_t*100/total_non_faces_training, \"%\"  ))\n",
    "\n",
    "    print(\"\\nTEST RESULTS: \\n\")\n",
    "    print( \"Correctly identified Faces: \", \"%d / %d  (%.3f%s)\\n\" % ( detected_faces_testing_t, total_faces_testing,\n",
    "                                                                detected_faces_testing_t*100/total_faces_testing, \"%\"  ))\n",
    "\n",
    "    print( \"Correctly identified non-Faces: \", \"%d / %d  (%.3f%s)\" % ( detected_non_faces_testing_t, total_non_faces_testing,\n",
    "                                                                detected_non_faces_testing_t*100/total_non_faces_testing, \"%\"  ))"
   ]
  },
  {
   "cell_type": "code",
   "execution_count": 58,
   "metadata": {},
   "outputs": [
    {
     "data": {
      "text/plain": [
       "[]"
      ]
     },
     "execution_count": 58,
     "metadata": {},
     "output_type": "execute_result"
    },
    {
     "data": {
      "image/png": "[encoded data removed]",
      "text/plain": [
       "<Figure size 432x288 with 1 Axes>"
      ]
     },
     "metadata": {},
     "output_type": "display_data"
    }
   ],
   "source": [
    "#Barplot for the 20 classifiers over the thresholds\n",
    "n = len(thresholds)\n",
    "width = 0.2\n",
    "x = np.arange(n)\n",
    "\n",
    "fig, ax = plt.subplots()\n",
    "\n",
    "ax.bar(x, correct_faces_train_t, width, color='b')\n",
    "ax.bar(x+width, correct_non_faces_train_t, width, color='g')\n",
    "ax.bar(x+width*2, correct_faces_test_t, width, color='r')\n",
    "ax.bar(x+width*3, correct_non_faces_test_t, width, color='y')\n",
    "\n",
    "ax.set_xticks(x + width / 4)\n",
    "ax.set_xticklabels(thresholds)\n",
    "\n",
    "plt.plot()"
   ]
  },
  {
   "cell_type": "code",
   "execution_count": null,
   "metadata": {},
   "outputs": [],
   "source": []
  },
  {
   "cell_type": "code",
   "execution_count": null,
   "metadata": {},
   "outputs": [],
   "source": []
  }
 ],
 "metadata": {
  "kernelspec": {
   "display_name": "Python 3",
   "language": "python",
   "name": "python3"
  },
  "language_info": {
   "codemirror_mode": {
    "name": "ipython",
    "version": 3
   },
   "file_extension": ".py",
   "mimetype": "text/x-python",
   "name": "python",
   "nbconvert_exporter": "python",
   "pygments_lexer": "ipython3",
   "version": "3.7.0"
  }
 },
 "nbformat": 4,
 "nbformat_minor": 1
}
